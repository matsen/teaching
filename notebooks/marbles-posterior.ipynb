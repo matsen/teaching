{
 "cells": [
  {
   "cell_type": "code",
   "execution_count": 1,
   "metadata": {},
   "outputs": [
    {
     "data": {
      "application/vnd.jupyter.widget-view+json": {
       "model_id": "75f7ebf290e740efa5ae7457f0874607",
       "version_major": 2,
       "version_minor": 0
      },
      "text/plain": [
       "VBox(children=(IntSlider(value=3, description='Blue draws:', layout=Layout(width='800px')), IntSlider(value=3,…"
      ]
     },
     "metadata": {},
     "output_type": "display_data"
    },
    {
     "data": {
      "application/vnd.jupyter.widget-view+json": {
       "model_id": "a10477e6d89a4dcc9890597ff447a749",
       "version_major": 2,
       "version_minor": 0
      },
      "text/plain": [
       "Output()"
      ]
     },
     "metadata": {},
     "output_type": "display_data"
    }
   ],
   "source": [
    "%matplotlib inline\n",
    "%config InlineBackend.figure_format = 'svg'\n",
    "from ipywidgets import widgets, HBox, VBox\n",
    "import matplotlib.pyplot as plt\n",
    "from IPython.display import display, clear_output\n",
    "import numpy as np\n",
    "from scipy.stats import beta\n",
    "\n",
    "# Boost resolution for high-quality plots\n",
    "plt.rcParams['figure.dpi'] = 300\n",
    "plt.rcParams['savefig.dpi'] = 300\n",
    "\n",
    "# Create an output widget to contain our plot\n",
    "output = widgets.Output()\n",
    "\n",
    "# Define the plotting function\n",
    "def plot_marble_posterior(blue_draws, red_draws, prior_strength, show_prior, show_credible_interval, show_midline):\n",
    "    with output:\n",
    "        # Clear the output area first\n",
    "        clear_output(wait=True)\n",
    "        \n",
    "        # Create a new figure\n",
    "        plt.figure(figsize=(10, 6))\n",
    "        \n",
    "        # Create x values (possible proportions of blue marbles)\n",
    "        # Avoid exact 0 and 1 to prevent numerical issues with low alpha/beta\n",
    "        x = np.linspace(0.001, 0.999, 1000)\n",
    "        \n",
    "        # Plot the prior if checkbox is selected\n",
    "        prior_alpha = prior_strength\n",
    "        prior_beta = prior_strength\n",
    "        prior = beta.pdf(x, prior_alpha, prior_beta)\n",
    "        \n",
    "        if show_prior:\n",
    "            # Cap the prior for visualization purposes\n",
    "            normalized_prior = prior / max(prior.max(), 1e-10)  # Avoid division by zero\n",
    "            plt.plot(x, np.minimum(normalized_prior, 1.0), 'b--', label='Prior belief', alpha=0.6)\n",
    "        \n",
    "        # Plot the posterior (Beta with updated parameters)\n",
    "        posterior_alpha = blue_draws + prior_alpha\n",
    "        posterior_beta = red_draws + prior_beta\n",
    "        posterior = beta.pdf(x, posterior_alpha, posterior_beta)\n",
    "        \n",
    "        # Cap the posterior for visualization purposes\n",
    "        normalized_posterior = posterior / max(posterior.max(), 1e-10)  # Avoid division by zero\n",
    "        plt.plot(x, np.minimum(normalized_posterior, 1.0), 'r-', label='Posterior belief', linewidth=2)\n",
    "        \n",
    "        # Add credible interval (95%) if checkbox is selected\n",
    "        if blue_draws + red_draws > 0 and show_credible_interval:\n",
    "            ci_low, ci_high = beta.interval(0.95, posterior_alpha, posterior_beta)\n",
    "            plt.axvspan(ci_low, ci_high, alpha=0.2, color='gray', \n",
    "                        label=f'95% Credible interval: ({ci_low:.2f}, {ci_high:.2f})')\n",
    "            \n",
    "        # Calculate probability that proportion is < 0.5\n",
    "        if blue_draws + red_draws > 0:\n",
    "            prob_less_than_half = beta.cdf(0.5, posterior_alpha, posterior_beta)\n",
    "            \n",
    "            # Add an invisible line with a label for the legend\n",
    "            plt.plot([], [], ' ', label=f'P(θ < 0.5) = {prob_less_than_half:.3f}')\n",
    "        \n",
    "        # Add vertical line at 0.5 if checkbox is selected\n",
    "        if show_midline:\n",
    "            plt.axvline(x=0.5, color='gray', linestyle='--')\n",
    "\n",
    "        # Add labels and title\n",
    "        plt.xlabel(\"Proportion of Blue Marbles (θ)\")\n",
    "        plt.ylabel(\"Relative Probability Density\")\n",
    "        plt.title(f\"Posterior Distribution After Drawing {blue_draws} Blue and {red_draws} Red Marbles\")\n",
    "        plt.legend()\n",
    "        plt.ylim(0, 1.1)\n",
    "        plt.grid(alpha=0.3)\n",
    "        \n",
    "        plt.tight_layout()\n",
    "        plt.show()\n",
    "        \n",
    "# Create widgets\n",
    "blue_slider = widgets.IntSlider(min=0, max=100, step=1, value=3, description='Blue draws:', layout=widgets.Layout(width='800px'))\n",
    "red_slider = widgets.IntSlider(min=0, max=100, step=1, value=3, description='Red draws:', layout=widgets.Layout(width='800px'))\n",
    "prior_slider = widgets.FloatSlider(\n",
    "    min=0.5, max=3.0, step=0.01, value=1.0, \n",
    "    description='Prior strength:', \n",
    "    layout=widgets.Layout(width='800px')\n",
    ")\n",
    "prior_checkbox = widgets.Checkbox(value=False, description='Show prior')\n",
    "credible_checkbox = widgets.Checkbox(value=False, description='Show credible interval')\n",
    "midline_checkbox = widgets.Checkbox(value=False, description='Show line at θ=0.5')\n",
    "button = widgets.Button(description=\"Update Plot\")\n",
    "\n",
    "# Function to handle button click\n",
    "def on_button_clicked(b):\n",
    "    plot_marble_posterior(\n",
    "        blue_slider.value, \n",
    "        red_slider.value, \n",
    "        prior_slider.value, \n",
    "        prior_checkbox.value,\n",
    "        credible_checkbox.value,\n",
    "        midline_checkbox.value\n",
    "    )\n",
    "\n",
    "# Connect the button to the function\n",
    "button.on_click(on_button_clicked)\n",
    "\n",
    "# Layout for widgets\n",
    "controls = VBox([\n",
    "    blue_slider, \n",
    "    red_slider, \n",
    "    prior_slider, \n",
    "    HBox([prior_checkbox, credible_checkbox, midline_checkbox]), \n",
    "    button\n",
    "])\n",
    "\n",
    "# Display the interface\n",
    "display(controls, output)\n",
    "\n",
    "# Show initial plot\n",
    "plot_marble_posterior(3, 3, 1.0, False, False, False)"
   ]
  },
  {
   "cell_type": "code",
   "execution_count": null,
   "metadata": {},
   "outputs": [],
   "source": []
  }
 ],
 "metadata": {
  "kernelspec": {
   "display_name": ".venv",
   "language": "python",
   "name": "python3"
  },
  "language_info": {
   "codemirror_mode": {
    "name": "ipython",
    "version": 3
   },
   "file_extension": ".py",
   "mimetype": "text/x-python",
   "name": "python",
   "nbconvert_exporter": "python",
   "pygments_lexer": "ipython3",
   "version": "3.11.9"
  }
 },
 "nbformat": 4,
 "nbformat_minor": 1
}
