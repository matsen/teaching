{
 "cells": [
  {
   "cell_type": "markdown",
   "id": "0459949e",
   "metadata": {},
   "source": [
    "This notebook is [on Colab](https://colab.research.google.com/drive/1sbesb7IcssN7daut64ZWvRmYgLV_6uey) too."
   ]
  },
  {
   "cell_type": "code",
   "execution_count": 1,
   "id": "8dd6df0e",
   "metadata": {},
   "outputs": [
    {
     "data": {
      "application/vnd.jupyter.widget-view+json": {
       "model_id": "1671ed3fe3a24451a5059456ad76711b",
       "version_major": 2,
       "version_minor": 0
      },
      "text/plain": [
       "VBox(children=(IntSlider(value=50, description='Total marbles:', layout=Layout(width='800px'), max=10000, min=…"
      ]
     },
     "metadata": {},
     "output_type": "display_data"
    },
    {
     "data": {
      "application/vnd.jupyter.widget-view+json": {
       "model_id": "d1b71a35bfd140db849c7acd561a811f",
       "version_major": 2,
       "version_minor": 0
      },
      "text/plain": [
       "Output()"
      ]
     },
     "metadata": {},
     "output_type": "display_data"
    }
   ],
   "source": [
    "import matplotlib.pyplot as plt\n",
    "import numpy as np\n",
    "from scipy import stats\n",
    "from ipywidgets import widgets, HBox, VBox\n",
    "from IPython.display import display, clear_output\n",
    "\n",
    "# Boost resolution for high-quality plots\n",
    "plt.rcParams['figure.dpi'] = 150\n",
    "plt.rcParams['savefig.dpi'] = 150\n",
    "\n",
    "# Create an output widget to contain our plot\n",
    "output = widgets.Output()\n",
    "\n",
    "def plot_marble_counts(total_marbles, blue_ratio):\n",
    "    with output:\n",
    "        # Clear the output area first\n",
    "        clear_output(wait=True)\n",
    "        \n",
    "        # Calculate counts\n",
    "        blue_count = int(round(total_marbles * blue_ratio))\n",
    "        red_count = total_marbles - blue_count\n",
    "        \n",
    "        # Create a new figure\n",
    "        fig, ax = plt.subplots(1, 1, figsize=(6, 5))\n",
    "        \n",
    "        # Plot the bar chart\n",
    "        colors = ['blue', 'red']\n",
    "        counts = [blue_count, red_count]\n",
    "        labels = ['Blue', 'Red']\n",
    "        \n",
    "        ax.bar(labels, counts, color=colors, width=0.6)\n",
    "        ax.set_ylabel('Count')\n",
    "        ax.set_title(f'Count of Marbles (Total: {total_marbles})')\n",
    "        \n",
    "        # Add count labels on bars\n",
    "        for i, count in enumerate(counts):\n",
    "            ax.text(i, count + 0.5, str(count), ha='center')\n",
    "        \n",
    "        # Determine grid dimensions\n",
    "        grid_rows = 10\n",
    "        grid_cols = int(np.ceil(total_marbles / grid_rows))\n",
    "        \n",
    "        # Create grid filled with -1 (background)\n",
    "        marbles_grid = np.full((grid_rows, grid_cols), -1)\n",
    "        \n",
    "        # Fill in marbles (1 for blue, 0 for red)\n",
    "        marble_indices = np.unravel_index(\n",
    "            np.arange(total_marbles), \n",
    "            (grid_rows, grid_cols), \n",
    "            order='C'\n",
    "        )\n",
    "        \n",
    "        # Set colors: first blue_count are blue (1), rest are red (0)\n",
    "        colors_flat = np.zeros(total_marbles)\n",
    "        colors_flat[:blue_count] = 1\n",
    "        \n",
    "        # Assign colors to grid\n",
    "        marbles_grid[marble_indices] = colors_flat\n",
    "                \n",
    "        # Perform binomial test using the current scipy.stats interface\n",
    "        try:\n",
    "            # Try newer version first (scipy >= 1.7.0)\n",
    "            binom_result = stats.binomtest(blue_count, total_marbles, p=0.5)\n",
    "            p_value = binom_result.pvalue\n",
    "        except AttributeError:\n",
    "            # Fallback to older version\n",
    "            p_value = stats.binom_test(blue_count, total_marbles, p=0.5)\n",
    "        \n",
    "        # Show test results\n",
    "        plt.figtext(0.5, 0.01, \n",
    "                   f'Binomial Test Results (H₀: p = 0.5)\\n'\n",
    "                   f'Observed blue ratio: {blue_count/total_marbles:.3f}\\n'\n",
    "                   f'p-value: {p_value:.5f}\\n'\n",
    "                   f'Conclusion: {\"Significantly different from 50/50\" if p_value < 0.05 else \"Not significantly different from 50/50\"}',\n",
    "                   ha='center', bbox={'facecolor': 'lightgray', 'alpha': 0.5, 'pad': 5})\n",
    "        \n",
    "        plt.tight_layout()\n",
    "        plt.subplots_adjust(bottom=0.25)\n",
    "        plt.show()\n",
    "\n",
    "# Create widgets\n",
    "total_slider = widgets.IntSlider(\n",
    "    min=10, max=10000, step=1, value=50, \n",
    "    description='Total marbles:',\n",
    "    style={'description_width': 'initial'},\n",
    "    layout=widgets.Layout(width='800px')  # Default slider is ~100px, so 8x is 800px\n",
    ")\n",
    "\n",
    "ratio_slider = widgets.FloatSlider(\n",
    "    min=0, max=1, step=0.01, value=0.5, \n",
    "    description='Blue ratio:',\n",
    "    style={'description_width': 'initial'},\n",
    "    layout=widgets.Layout(width='800px')  # Make 8x longer than default\n",
    ")\n",
    "\n",
    "update_button = widgets.Button(description=\"Update Plot\")\n",
    "\n",
    "# Function to handle button click\n",
    "def on_button_clicked(b):\n",
    "    plot_marble_counts(\n",
    "        total_slider.value,\n",
    "        ratio_slider.value\n",
    "    )\n",
    "\n",
    "# Connect the button to the function\n",
    "update_button.on_click(on_button_clicked)\n",
    "\n",
    "# Layout for widgets\n",
    "controls = VBox([total_slider, ratio_slider, update_button])\n",
    "\n",
    "# Display the interface\n",
    "display(controls, output)\n",
    "\n",
    "# Show initial plot\n",
    "plot_marble_counts(50, 0.5)"
   ]
  }
 ],
 "metadata": {
  "kernelspec": {
   "display_name": ".venv",
   "language": "python",
   "name": "python3"
  },
  "language_info": {
   "codemirror_mode": {
    "name": "ipython",
    "version": 3
   },
   "file_extension": ".py",
   "mimetype": "text/x-python",
   "name": "python",
   "nbconvert_exporter": "python",
   "pygments_lexer": "ipython3",
   "version": "3.11.9"
  }
 },
 "nbformat": 4,
 "nbformat_minor": 5
}
