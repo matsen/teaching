{
 "cells": [
  {
   "cell_type": "markdown",
   "id": "3b29d985",
   "metadata": {},
   "source": [
    "# GS541 phylogenetics homework 2\n",
    "\n",
    "## Estimating likelihoods for sequence models\n",
    "\n",
    "At the end of this segment, I hope you understand:\n",
    "\n",
    "* How we can perform maximum likelihood branch length inference under 0/1 and DNA alphabet models"
   ]
  },
  {
   "cell_type": "markdown",
   "id": "ee926072",
   "metadata": {},
   "source": [
    "So, according to the [Poisson PMF](https://en.wikipedia.org/wiki/Poisson_distribution#Probability_mass_function) the probability of having no mutation in time $t$ is $e^{-\\mu t}$. (This is why people say that there are \"exponentially distributed waiting times\" between Poisson-distributed events."
   ]
  },
  {
   "cell_type": "code",
   "execution_count": null,
   "id": "205c2419",
   "metadata": {},
   "outputs": [],
   "source": [
    "from scipy.stats import bernoulli, poisson\n",
    "\n",
    "import matplotlib.pyplot as plt\n",
    "import numpy as np\n",
    "import pandas as pd\n",
    "import random"
   ]
  },
  {
   "cell_type": "code",
   "execution_count": null,
   "id": "defa97cc",
   "metadata": {},
   "outputs": [],
   "source": [
    "def probability_of_a_one(t):\n",
    "    return 0.5*(1 - np.exp(-t))\n",
    "\n",
    "x_values = np.linspace(0., 2.)\n",
    "ones_probability = np.array([probability_of_a_one(x) for x in x_values])\n",
    "pd.DataFrame({\"x\": x_values, \"ones_probability\": ones_probability}).plot(x=\"x\", y=\"ones_probability\")"
   ]
  }
 ],
 "metadata": {
  "kernelspec": {
   "display_name": "Python 3",
   "language": "python",
   "name": "python3"
  },
  "language_info": {
   "codemirror_mode": {
    "name": "ipython",
    "version": 3
   },
   "file_extension": ".py",
   "mimetype": "text/x-python",
   "name": "python",
   "nbconvert_exporter": "python",
   "pygments_lexer": "ipython3",
   "version": "3.7.10"
  }
 },
 "nbformat": 4,
 "nbformat_minor": 5
}
