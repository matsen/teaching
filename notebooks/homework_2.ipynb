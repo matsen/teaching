{
 "cells": [
  {
   "cell_type": "markdown",
   "id": "693afe92",
   "metadata": {},
   "source": [
    "# GS541 phylogenetics homework 2\n",
    "\n",
    "## Estimating likelihoods for sequence models\n",
    "\n",
    "At the end of this segment, I hope you understand:\n",
    "\n",
    "* How we can perform maximum likelihood branch length inference under 0/1 and DNA alphabet models"
   ]
  },
  {
   "cell_type": "code",
   "execution_count": null,
   "id": "58bb7b1a",
   "metadata": {},
   "outputs": [],
   "source": [
    "from scipy.stats import bernoulli, poisson\n",
    "\n",
    "import matplotlib.pyplot as plt\n",
    "import numpy as np\n",
    "import pandas as pd\n",
    "import random"
   ]
  },
  {
   "cell_type": "markdown",
   "id": "1b97ad59",
   "metadata": {},
   "source": [
    "According to the [Poisson PMF](https://en.wikipedia.org/wiki/Poisson_distribution#Probability_mass_function) the probability of having **no** mutation in time $t$ is $e^{-\\mu t}$. (This is why people say that there are \"exponentially distributed waiting times\" between Poisson-distributed events.\n",
    "\n",
    "Let's say that we start in state 0, and when we have a mutation it randomizes the state so that it's 0 or 1 with equal probability.\n",
    "\n",
    "_Exercise: fill in the formula below for the probability of being in state 1 after time t with $\\mu=1$. Check to make sure it matches (approximately) with the simulations we did for the first homework._"
   ]
  },
  {
   "cell_type": "code",
   "execution_count": null,
   "id": "416f4331",
   "metadata": {},
   "outputs": [],
   "source": [
    "def probability_of_a_one(t):\n",
    "    FILL_IN_MISSING_HERE\n",
    "\n",
    "x_values = np.linspace(0., 2.)\n",
    "ones_probability = np.array([probability_of_a_one(x) for x in x_values])\n",
    "pd.DataFrame({\"x\": x_values, \"ones_probability\": ones_probability}).plot(x=\"x\", y=\"ones_probability\")"
   ]
  },
  {
   "cell_type": "markdown",
   "id": "3e6d0d20",
   "metadata": {},
   "source": [
    "It turns out that although one can write down probabilities easily for such a simple model, for more general models one uses matrix exponentiation. \n",
    "In the next few exercises we'll see how that comes about.\n",
    "\n",
    "We'll formulate the model in terms of a [transition rate matrix](https://en.wikipedia.org/wiki/Transition_rate_matrix) or Q matrix. \n",
    "This matrix has rates of transition from one state to another on the off-diagonal elements. \n",
    "The diagonal elements are negative of the non-diagonal row sums, which is intuitively the rate with which things are transitioning away from that state.\n",
    "Here's an example, in which states transition from 0 to 1 with rate 1, and from 1 to 0 with rate 1:"
   ]
  },
  {
   "cell_type": "code",
   "execution_count": null,
   "id": "9925835c",
   "metadata": {},
   "outputs": [],
   "source": [
    "Q = 0.5 * np.matrix([[-1, 1], [1, -1]])\n",
    "Q"
   ]
  },
  {
   "cell_type": "code",
   "execution_count": null,
   "id": "4ec20ed9",
   "metadata": {},
   "outputs": [],
   "source": [
    "I = np.eye(2)\n",
    "I"
   ]
  },
  {
   "cell_type": "markdown",
   "id": "b0141946",
   "metadata": {},
   "source": [
    "If we take $I$ and add a small multiple of $Q$, it's like taking a small discrete step as directed by $Q$.\n",
    "For example:"
   ]
  },
  {
   "cell_type": "code",
   "execution_count": null,
   "id": "6f494ac6",
   "metadata": {},
   "outputs": [],
   "source": [
    "I + (1/3)*Q"
   ]
  },
  {
   "cell_type": "markdown",
   "id": "de6231e2",
   "metadata": {},
   "source": [
    "Recall that when we take the power of probability transition matrices, it's like doing that probabilistic transition several times. \n",
    "\n",
    "One of the [definitions of the exponential function](https://en.wikipedia.org/wiki/Characterizations_of_the_exponential_function) is in terms of a limit like\n",
    "$$\\lim_{n \\rightarrow \\infty} (1 + \\frac1n)^n.$$\n",
    "\n",
    "We can do that with matrices too! \n",
    "In that case we think of taking smaller and smaller probabilistic transitions more and more frequently. \n",
    "In terms of DNA, we can think of mutation events becoming rarer as the number of generations gets large.\n",
    "In this case, our \"smaller and smaller\" transitions are from the matrix\n",
    "$$\n",
    "I + \\frac1n Q\n",
    "$$"
   ]
  },
  {
   "cell_type": "code",
   "execution_count": null,
   "id": "8b686a95",
   "metadata": {},
   "outputs": [],
   "source": [
    "def matrix_exponential_approximation(n):\n",
    "    return np.linalg.matrix_power(I + (1/n)*Q, n)"
   ]
  },
  {
   "cell_type": "markdown",
   "id": "9d8a043c",
   "metadata": {},
   "source": [
    "_Exercise: demonstrate with a graph that the limit here has an entry converging to what we saw with `probability_of_a_one` above, and to what the matrix exponential implementation in SciPy gives._"
   ]
  },
  {
   "cell_type": "code",
   "execution_count": null,
   "id": "ba87ed22",
   "metadata": {},
   "outputs": [],
   "source": []
  },
  {
   "cell_type": "markdown",
   "id": "957e31c1",
   "metadata": {},
   "source": [
    "The upshot of all of this is that we can model the mutation processes with a probability transition matrix of the form\n",
    "$$\n",
    "P(t) = e^{\\mu t Q}.\n",
    "$$\n",
    "As in the previous homework, the 0,0 entry of this matrix is the probability of a site being in state 0 after time $t$ with mutation rate $\\mu$ given that it was in state 0 to begin with.\n",
    "The 1,0 entry of this matrix is thre probability of the site being in state 1 after time $t$ with mutation rate $\\mu$ given that it was in state 0 to begin with.\n",
    "\n",
    "We will describe in class how using a Q matrix allows for flexible modeling of DNA substitution (beyond the simple toy model we used here).\n",
    "\n",
    "_Exercise: We are going to perform likelihood-based branch-length inference using a Q matrix! Say we have a sequence that starts in state `00000` and after some time $t$ evolves to be `00101`. Making the standard phylogenetic assumptions, and assuming that $\\mu = 1$, estimate $t$ by plotting the likelihood function and eyeballing a peak._"
   ]
  },
  {
   "cell_type": "code",
   "execution_count": null,
   "id": "7880a8ff",
   "metadata": {},
   "outputs": [],
   "source": [
    "def likelihood(t):\n",
    "    FILL_IN_MISSING_HERE\n",
    "\n",
    "x_values = np.linspace(1., 3.)\n",
    "likelihoods = np.array([likelihood(x) for x in x_values])\n",
    "pd.DataFrame({\"x\": x_values, \"likelihood\": likelihoods}).plot(x=\"x\", y=\"likelihood\")"
   ]
  },
  {
   "cell_type": "markdown",
   "id": "e7dc1bc2",
   "metadata": {},
   "source": [
    "_Exercise: Branch lengths are typically expressed as \"expected number of substitutions per site.\" \n",
    "(1) Thinking back to our formulation in terms of a Poisson number of mutations with a given mean, justify why we think of branch length that way.\n",
    "(2) What does it mean in terms of the per-site mutation process when branch lengths are greater than 1?_"
   ]
  },
  {
   "cell_type": "markdown",
   "id": "cdd9ce11",
   "metadata": {},
   "source": [
    " "
   ]
  },
  {
   "cell_type": "markdown",
   "id": "7abe3314",
   "metadata": {},
   "source": [
    "_Exercise: Perform sequence alignment and build a tree on the measles data. The easiest way to do this is via seaview (see course notes)._\n",
    "\n",
    "1. How confident do you feel in this sequence alignment?\n",
    "2. How confident do you feel in this tree?\n",
    "3. What standard phylogenetic model assumptions may be violated in this tree inference?"
   ]
  },
  {
   "cell_type": "markdown",
   "id": "8a0f3c7a",
   "metadata": {},
   "source": [
    " "
   ]
  },
  {
   "cell_type": "markdown",
   "id": "cf802647",
   "metadata": {},
   "source": [
    "_Exercise: Perform sequence alignment and tree inference on the HIV data._\n",
    "\n",
    "Answer the same questions as for the measles data."
   ]
  },
  {
   "cell_type": "markdown",
   "id": "2dfc8c08",
   "metadata": {},
   "source": [
    " "
   ]
  },
  {
   "cell_type": "markdown",
   "id": "00c1a27c",
   "metadata": {},
   "source": [
    "_Exercise: Reflect on what you learned in this course module. Did anything surprise you? Is there something you wanted to learn but didn't? Did we spend too much time on one part or another of the material?_"
   ]
  },
  {
   "cell_type": "markdown",
   "id": "66fcc22b",
   "metadata": {},
   "source": [
    " "
   ]
  }
 ],
 "metadata": {
  "kernelspec": {
   "display_name": "Python 3",
   "language": "python",
   "name": "python3"
  },
  "language_info": {
   "codemirror_mode": {
    "name": "ipython",
    "version": 3
   },
   "file_extension": ".py",
   "mimetype": "text/x-python",
   "name": "python",
   "nbconvert_exporter": "python",
   "pygments_lexer": "ipython3",
   "version": "3.7.10"
  }
 },
 "nbformat": 4,
 "nbformat_minor": 5
}
