{
 "cells": [
  {
   "cell_type": "markdown",
   "id": "1a812120",
   "metadata": {},
   "source": [
    "# GS541 phylogenetics homework 1\n",
    "\n",
    "## Poisson distribution and estimation via maximum likelihood\n",
    "\n",
    "At the end of this segment, I hope you understand\n",
    "\n",
    "* why we use the Poisson distribution to model mutation processes\n",
    "* how model parameter estimation via maximum likelihood \"works\""
   ]
  },
  {
   "cell_type": "code",
   "execution_count": null,
   "id": "9a106736",
   "metadata": {},
   "outputs": [],
   "source": [
    "from scipy.stats import poisson\n",
    "\n",
    "import matplotlib.pyplot as plt\n",
    "import numpy as np\n",
    "import pandas as pd\n",
    "import random"
   ]
  },
  {
   "cell_type": "code",
   "execution_count": null,
   "id": "96af7be0",
   "metadata": {},
   "outputs": [],
   "source": [
    "def sample_event(probability):\n",
    "    \"\"\"Return True with probability `probability`, otherwise return False.\"\"\"\n",
    "    return random.random() < probability"
   ]
  },
  {
   "cell_type": "markdown",
   "id": "05a85d81",
   "metadata": {},
   "source": [
    "Demonstrate that your code is working properly by summing together a large number of outputs from this function and seeing that it's giving (approximately) the expected number of Trues."
   ]
  },
  {
   "cell_type": "code",
   "execution_count": null,
   "id": "cbb5ab04",
   "metadata": {},
   "outputs": [],
   "source": [
    "sum(sample_event(0.9) for i in range(1000))"
   ]
  },
  {
   "cell_type": "code",
   "execution_count": null,
   "id": "f5cc6f73",
   "metadata": {},
   "outputs": [],
   "source": [
    "def count_mutations(generation_count, mutation_probability):\n",
    "    \"\"\"Simulate the number of mutations after `generation_count` generations, \n",
    "    each of which mutates with probability `mutation_probability`.\"\"\"\n",
    "    return sum(sample_event(mutation_probability) for i in range(generation_count))"
   ]
  },
  {
   "cell_type": "code",
   "execution_count": null,
   "id": "09760a88",
   "metadata": {},
   "outputs": [],
   "source": [
    "count_mutations(1000, 0.01)"
   ]
  },
  {
   "cell_type": "code",
   "execution_count": null,
   "id": "cd6edd8e",
   "metadata": {},
   "outputs": [],
   "source": [
    "mutation_counts = pd.Series([count_mutations(700, 0.01) for i in range(10000)])"
   ]
  },
  {
   "cell_type": "code",
   "execution_count": null,
   "id": "1f1662ff",
   "metadata": {},
   "outputs": [],
   "source": [
    "mutation_counts.plot.hist(bins=max(mutation_counts))"
   ]
  },
  {
   "cell_type": "code",
   "execution_count": null,
   "id": "859db3e2",
   "metadata": {},
   "outputs": [],
   "source": [
    "ax = mutation_counts.plot.density(bw_method=0.25)\n",
    "\n",
    "x = range(12) \n",
    "pois_df = pd.DataFrame({\"x\":x, \"pdf\": poisson.pmf(x, 7.)})\n",
    "pois_df.plot(x=\"x\", y=\"pdf\", ax=ax)"
   ]
  },
  {
   "cell_type": "markdown",
   "id": "f1da1284",
   "metadata": {},
   "source": [
    "Make a plot of the Poisson distribution with various means.\n",
    "Fit one \"by eye\"."
   ]
  },
  {
   "cell_type": "markdown",
   "id": "146550ea",
   "metadata": {},
   "source": [
    "Mutations versus substitutions versus observed mutations."
   ]
  },
  {
   "cell_type": "markdown",
   "id": "6db695bb",
   "metadata": {},
   "source": [
    "1. start with a string\n",
    "2. for every generation, for every site, flip the state\n",
    "3. note that we aren't getting the right number\n",
    "3. estimate the number of actual substitutions"
   ]
  },
  {
   "cell_type": "code",
   "execution_count": null,
   "id": "57cf525d",
   "metadata": {},
   "outputs": [],
   "source": [
    "sequence = \"0\"*1000\n"
   ]
  },
  {
   "cell_type": "markdown",
   "id": "4762c482",
   "metadata": {},
   "source": [
    "1. start with a string\n",
    "2. for every generation, for every site, sample the number of mutations that will happen, and for each one sample the base that will be sampled\n",
    "3. estimate the number "
   ]
  },
  {
   "cell_type": "code",
   "execution_count": null,
   "id": "6e7ad7bb",
   "metadata": {},
   "outputs": [],
   "source": []
  }
 ],
 "metadata": {
  "kernelspec": {
   "display_name": "Python 3",
   "language": "python",
   "name": "python3"
  },
  "language_info": {
   "codemirror_mode": {
    "name": "ipython",
    "version": 3
   },
   "file_extension": ".py",
   "mimetype": "text/x-python",
   "name": "python",
   "nbconvert_exporter": "python",
   "pygments_lexer": "ipython3",
   "version": "3.7.10"
  }
 },
 "nbformat": 4,
 "nbformat_minor": 5
}
