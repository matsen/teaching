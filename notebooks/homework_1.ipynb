{
 "cells": [
  {
   "cell_type": "markdown",
   "id": "9ae0b06c",
   "metadata": {},
   "source": [
    "# GS541 phylogenetics homework 1\n",
    "\n",
    "## Poisson distribution and estimation via maximum likelihood\n",
    "\n",
    "At the end of this segment, I hope you understand\n",
    "\n",
    "* why we use the Poisson distribution to model mutation processes\n",
    "* how model parameter estimation via maximum likelihood \"works\""
   ]
  },
  {
   "cell_type": "code",
   "execution_count": null,
   "id": "794d75a3",
   "metadata": {},
   "outputs": [],
   "source": [
    "from scipy.stats import poisson\n",
    "\n",
    "import matplotlib.pyplot as plt\n",
    "import numpy as np\n",
    "import pandas as pd\n",
    "import random"
   ]
  },
  {
   "cell_type": "code",
   "execution_count": null,
   "id": "ac4ea339",
   "metadata": {},
   "outputs": [],
   "source": [
    "def sample_event(probability):\n",
    "    \"\"\"Return True with probability `probability`, otherwise return False.\"\"\"\n",
    "    return random.random() < probability"
   ]
  },
  {
   "cell_type": "markdown",
   "id": "12525599",
   "metadata": {},
   "source": [
    "Demonstrate that your code is working properly by summing together a large number of outputs from this function and seeing that it's giving (approximately) the expected number of Trues."
   ]
  },
  {
   "cell_type": "code",
   "execution_count": null,
   "id": "279b3eb0",
   "metadata": {},
   "outputs": [],
   "source": [
    "sum(sample_event(0.9) for i in range(1000))"
   ]
  },
  {
   "cell_type": "code",
   "execution_count": null,
   "id": "a4f7148f",
   "metadata": {},
   "outputs": [],
   "source": [
    "def count_mutations(generation_count, mutation_probability):\n",
    "    \"\"\"Simulate the number of mutations after `generation_count` generations, \n",
    "    each of which mutates with probability `mutation_probability`.\"\"\"\n",
    "    return sum(sample_event(mutation_probability) for i in range(generation_count))"
   ]
  },
  {
   "cell_type": "markdown",
   "id": "1f9631a6",
   "metadata": {},
   "source": [
    "_Try this function a few times._"
   ]
  },
  {
   "cell_type": "code",
   "execution_count": null,
   "id": "40ba4798",
   "metadata": {},
   "outputs": [],
   "source": []
  },
  {
   "cell_type": "markdown",
   "id": "2581448a",
   "metadata": {},
   "source": [
    "Now imagine we have a highly mutable stretch of DNA 10,000 bases long. \n",
    "Say this evolves for 700 generations, and each generation each site has a probability of 0.01 of being mutated."
   ]
  },
  {
   "cell_type": "code",
   "execution_count": null,
   "id": "63366680",
   "metadata": {},
   "outputs": [],
   "source": [
    "mutation_counts = pd.Series([count_mutations(700, 0.005) for i in range(10000)])"
   ]
  },
  {
   "cell_type": "code",
   "execution_count": null,
   "id": "de754214",
   "metadata": {},
   "outputs": [],
   "source": [
    "mutation_counts.plot.hist(bins=max(mutation_counts))"
   ]
  },
  {
   "cell_type": "markdown",
   "id": "edbabeaa",
   "metadata": {},
   "source": [
    "This distribution looks Poisson-distributed (in fact, [we know that it should be almost exactly Poisson](https://en.wikipedia.org/wiki/Poisson_distribution#Law_of_rare_events)).\n",
    "So let's model it accordingly. \n",
    "First take a moment and read up about the [Poisson distribution](https://en.wikipedia.org/wiki/Poisson_distribution).\n",
    "Then try out various parameters for sampling from the [Poisson distribution as implemented in SciPy](https://docs.scipy.org/doc/scipy/reference/generated/scipy.stats.poisson.html)."
   ]
  },
  {
   "cell_type": "code",
   "execution_count": null,
   "id": "b64156b2",
   "metadata": {},
   "outputs": [],
   "source": [
    "poisson.rvs(4., size=3)"
   ]
  },
  {
   "cell_type": "markdown",
   "id": "409b904a",
   "metadata": {},
   "source": [
    "Try out a couple of values for `pois_parameter` below and see if you can find a value such that the Poisson distribution matches the simulated data."
   ]
  },
  {
   "cell_type": "code",
   "execution_count": null,
   "id": "a1ca75a4",
   "metadata": {},
   "outputs": [],
   "source": [
    "ax = mutation_counts.plot.hist(bins=max(mutation_counts))\n",
    "\n",
    "pois_parameter = 6.\n",
    "pois_samples = poisson.rvs(pois_parameter, size=10000)\n",
    "pd.Series(pois_samples).plot.hist(bins=max(pois_samples),ax=ax, alpha=0.5)"
   ]
  },
  {
   "cell_type": "markdown",
   "id": "ae14e6cf",
   "metadata": {},
   "source": [
    "Before we continue, take a breath and look what we are doing: we are choosing a parameter value for our _model_ such that when we simulate values from that model, they match (as best as possible) the observed data.\n",
    "\n",
    "This is the essence of maximum likelihood inference: choosing parameter values for a model such that the model is as likely as possible to generate the observed data.\n",
    "\n",
    "Now we're going to do such estimation more formally.\n",
    "\n",
    "The basic insight is that if our model is simple enough we don't have to _simulate_ in order to match the simulated and observed data, but we can just calculate likelihoods directly. \n",
    "\n",
    "Let's look at the Probability Mass Function for the Poisson distribution."
   ]
  },
  {
   "cell_type": "code",
   "execution_count": null,
   "id": "290ba5e7",
   "metadata": {},
   "outputs": [],
   "source": [
    "poisson.pmf(4, 2.5)"
   ]
  },
  {
   "cell_type": "markdown",
   "id": "0f1cac47",
   "metadata": {},
   "source": [
    "This says that the probability of getting 4 from a Poission distribution with mean 2.5 is about 0.13.\n",
    "\n",
    "We can plot the corresponding distribution, which we can think of as the probability of generating 4 mutations from a Poisson process with various means:"
   ]
  },
  {
   "cell_type": "code",
   "execution_count": null,
   "id": "ab4a4df4",
   "metadata": {},
   "outputs": [],
   "source": [
    "x_values = np.linspace(0., 10.)\n",
    "probabilities = poisson.pmf(4, x_values)\n",
    "pd.DataFrame({\"x\": x_values, \"probability\": probabilities}).plot(x=\"x\", y=\"probability\")"
   ]
  },
  {
   "cell_type": "markdown",
   "id": "f23a7366",
   "metadata": {},
   "source": [
    "_Exercise: what is the maximum likelihood value in this plot? Why is that value not surprising?_"
   ]
  },
  {
   "cell_type": "markdown",
   "id": "4a1bf8f8",
   "metadata": {},
   "source": [
    " "
   ]
  },
  {
   "cell_type": "markdown",
   "id": "8055ce8c",
   "metadata": {},
   "source": [
    "Now let's say that we have two sites, and mutations arise in these two sites independently. \n",
    "By this independence assumption, [the probability of a particular observation at these two sites is the product of the probabilities at each site](https://en.wikipedia.org/wiki/Independence_(probability_theory)#Two_events).\n",
    "\n",
    "So, if we have a Poisson distribution with mean 2.5 as before, the probability of getting 4 mutations and 7 mutations is:"
   ]
  },
  {
   "cell_type": "code",
   "execution_count": null,
   "id": "b5ea4e2a",
   "metadata": {},
   "outputs": [],
   "source": [
    "poisson.pmf(4, 2.5) * poisson.pmf(7, 2.5)"
   ]
  },
  {
   "cell_type": "markdown",
   "id": "20198260",
   "metadata": {},
   "source": [
    "_Exercise: make the same plot as just above, but rather than just for one site with 4 mutations, we now have one site with 4 mutations and one site with 7 mutations._"
   ]
  },
  {
   "cell_type": "code",
   "execution_count": null,
   "id": "92c41452",
   "metadata": {},
   "outputs": [],
   "source": []
  },
  {
   "cell_type": "markdown",
   "id": "d3b9d7c6",
   "metadata": {},
   "source": [
    "Now we'd like to extend this to many sites, say the 10,000 sites we simulated above. But we encounter a problem!"
   ]
  },
  {
   "cell_type": "code",
   "execution_count": null,
   "id": "828c0b3f",
   "metadata": {},
   "outputs": [],
   "source": [
    "np.prod(poisson.pmf(mutation_counts, 3.))"
   ]
  },
  {
   "cell_type": "markdown",
   "id": "92d354f6",
   "metadata": {},
   "source": [
    "_Exercise: what problem did we encounter?_"
   ]
  },
  {
   "cell_type": "markdown",
   "id": "44875585",
   "metadata": {},
   "source": [
    " "
   ]
  },
  {
   "cell_type": "markdown",
   "id": "c09b4df0",
   "metadata": {},
   "source": [
    "We can avoid this problem by taking the log probability of each observation and then summing to get the log likelihood of the whole data set:"
   ]
  },
  {
   "cell_type": "code",
   "execution_count": null,
   "id": "1b555160",
   "metadata": {},
   "outputs": [],
   "source": [
    "np.sum(poisson.logpmf(mutation_counts, 3.))"
   ]
  },
  {
   "cell_type": "code",
   "execution_count": null,
   "id": "527121fb",
   "metadata": {},
   "outputs": [],
   "source": [
    "probabilities = np.array([np.sum(poisson.logpmf(mutation_counts, x)) for x in x_values])\n",
    "pd.DataFrame({\"x\": x_values, \"probability\": probabilities}).plot(x=\"x\", y=\"probability\")"
   ]
  },
  {
   "cell_type": "markdown",
   "id": "17f1d206",
   "metadata": {},
   "source": [
    "_Exercise: what is the maximum likelihood value of the parameter of the Poisson distribution we are using? Why is this not surprising?_"
   ]
  },
  {
   "cell_type": "markdown",
   "id": "cf826f8a",
   "metadata": {},
   "source": []
  },
  {
   "cell_type": "markdown",
   "id": "30cf984d",
   "metadata": {},
   "source": [
    "Mutations versus substitutions versus observed mutations."
   ]
  },
  {
   "cell_type": "markdown",
   "id": "8b7c1f5d",
   "metadata": {},
   "source": [
    "1. start with a string\n",
    "2. for every generation, for every site, flip the state\n",
    "3. note that we aren't getting the right number\n",
    "3. estimate the number of actual substitutions"
   ]
  },
  {
   "cell_type": "code",
   "execution_count": null,
   "id": "ad08a96c",
   "metadata": {},
   "outputs": [],
   "source": [
    "sequence = \"0\"*1000\n"
   ]
  },
  {
   "cell_type": "markdown",
   "id": "13bdb1e3",
   "metadata": {},
   "source": [
    "1. start with a string\n",
    "2. for every generation, for every site, sample the number of mutations that will happen, and for each one sample the base that will be sampled\n",
    "3. estimate the number "
   ]
  },
  {
   "cell_type": "code",
   "execution_count": null,
   "id": "37872a1d",
   "metadata": {},
   "outputs": [],
   "source": []
  }
 ],
 "metadata": {
  "kernelspec": {
   "display_name": "Python 3",
   "language": "python",
   "name": "python3"
  },
  "language_info": {
   "codemirror_mode": {
    "name": "ipython",
    "version": 3
   },
   "file_extension": ".py",
   "mimetype": "text/x-python",
   "name": "python",
   "nbconvert_exporter": "python",
   "pygments_lexer": "ipython3",
   "version": "3.7.10"
  }
 },
 "nbformat": 4,
 "nbformat_minor": 5
}
