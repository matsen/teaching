{
 "cells": [
  {
   "cell_type": "code",
   "execution_count": 1,
   "metadata": {},
   "outputs": [],
   "source": [
    "import ete3\n",
    "from ete3 import Tree, faces, AttrFace, TreeStyle\n",
    "\n",
    "# This is just so we can show internal node names.\n",
    "def my_layout(node):\n",
    "    if node.is_leaf():\n",
    "         # If terminal node, draws its name\n",
    "         name_face = AttrFace(\"name\")\n",
    "    else:\n",
    "         # If internal node, draws label with smaller font size\n",
    "         name_face = AttrFace(\"name\", fsize=10)\n",
    "    # Adds the name face to the image at the preferred position\n",
    "    faces.add_face_to_node(name_face, node, column=0, position=\"branch-right\")\n",
    "\n",
    "ts = TreeStyle()\n",
    "# Do not add leaf names automatically\n",
    "ts.show_leaf_name = False\n",
    "# Use my custom layout\n",
    "ts.layout_fn = my_layout"
   ]
  },
  {
   "cell_type": "code",
   "execution_count": 2,
   "metadata": {},
   "outputs": [],
   "source": [
    "t = Tree(\"(jupiter:0.1,(mars:0.1,saturn:0.1):0.2):0.;\")"
   ]
  },
  {
   "cell_type": "code",
   "execution_count": 3,
   "metadata": {},
   "outputs": [
    {
     "data": {
      "image/png": "[encoded data removed]",
      "text/plain": [
       "<IPython.core.display.Image object>"
      ]
     },
     "execution_count": 3,
     "metadata": {},
     "output_type": "execute_result"
    }
   ],
   "source": [
    "t.render(\"%%inline\")"
   ]
  },
  {
   "cell_type": "code",
   "execution_count": 4,
   "metadata": {},
   "outputs": [],
   "source": [
    "[jupiter, ancestor] = t.children\n",
    "t.name = 'root'\n",
    "ancestor.name = 'ancestor'"
   ]
  },
  {
   "cell_type": "code",
   "execution_count": 5,
   "metadata": {},
   "outputs": [
    {
     "data": {
      "image/png": "[encoded data removed]",
      "text/plain": [
       "<IPython.core.display.Image object>"
      ]
     },
     "execution_count": 5,
     "metadata": {},
     "output_type": "execute_result"
    }
   ],
   "source": [
    "t.render(\"%%inline\", tree_style=ts)"
   ]
  },
  {
   "cell_type": "code",
   "execution_count": 6,
   "metadata": {},
   "outputs": [
    {
     "data": {
      "text/plain": [
       "['root', 'jupiter', 'ancestor', 'mars', 'saturn']"
      ]
     },
     "execution_count": 6,
     "metadata": {},
     "output_type": "execute_result"
    }
   ],
   "source": [
    "[n.name for n in t.traverse(\"preorder\")]"
   ]
  },
  {
   "cell_type": "code",
   "execution_count": 7,
   "metadata": {},
   "outputs": [
    {
     "data": {
      "text/plain": [
       "['jupiter', 'mars', 'saturn', 'ancestor', 'root']"
      ]
     },
     "execution_count": 7,
     "metadata": {},
     "output_type": "execute_result"
    }
   ],
   "source": [
    "[n.name for n in t.traverse(\"postorder\")]"
   ]
  }
 ],
 "metadata": {
  "kernelspec": {
   "display_name": "Python 3 (ipykernel)",
   "language": "python",
   "name": "python3"
  },
  "language_info": {
   "codemirror_mode": {
    "name": "ipython",
    "version": 3
   },
   "file_extension": ".py",
   "mimetype": "text/x-python",
   "name": "python",
   "nbconvert_exporter": "python",
   "pygments_lexer": "ipython3",
   "version": "3.8.12"
  }
 },
 "nbformat": 4,
 "nbformat_minor": 4
}
